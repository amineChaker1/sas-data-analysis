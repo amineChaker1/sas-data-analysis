{
 "cells": [
  {
   "cell_type": "markdown",
   "id": "178c9aea-de4a-472c-aa27-6f4168bad3e8",
   "metadata": {},
   "source": [
    "### Analyzing and Reporting on Data"
   ]
  },
  {
   "cell_type": "markdown",
   "id": "aca25bd2-9708-4093-b355-fd20964d071e",
   "metadata": {},
   "source": [
    "In Analyzing and Reporting on Data, we concentrate on summarizing data by using the SAS procedures that we touched on for data exploration. You also learn how to use titles, column labels, footnotes, and macro variables to enhance your reports and make them more meaningful"
   ]
  },
  {
   "cell_type": "code",
   "execution_count": null,
   "id": "f9e418e6-da61-4baa-883f-278b51865ca1",
   "metadata": {},
   "outputs": [],
   "source": []
  }
 ],
 "metadata": {
  "kernelspec": {
   "display_name": "",
   "name": ""
  },
  "language_info": {
   "name": ""
  }
 },
 "nbformat": 4,
 "nbformat_minor": 5
}
