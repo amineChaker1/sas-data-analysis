{
 "cells": [
  {
   "cell_type": "markdown",
   "id": "70fb3558-9848-403e-a813-f185709cbced",
   "metadata": {},
   "source": [
    "### Manipulating Data With Functions"
   ]
  },
  {
   "cell_type": "markdown",
   "id": "125ab226-7fb5-46be-a347-cdad99c50287",
   "metadata": {},
   "source": [
    "In Manipulating Data with Functions you learn to use some new functions that enable you to manipulate numeric, date, and character values. In addition, you learn to use functions that change a column from one data type to another."
   ]
  },
  {
   "cell_type": "code",
   "execution_count": null,
   "id": "416c6574-7bfd-480c-a3dc-8ca623d72787",
   "metadata": {},
   "outputs": [],
   "source": []
  }
 ],
 "metadata": {
  "kernelspec": {
   "display_name": "",
   "name": ""
  },
  "language_info": {
   "name": ""
  }
 },
 "nbformat": 4,
 "nbformat_minor": 5
}
