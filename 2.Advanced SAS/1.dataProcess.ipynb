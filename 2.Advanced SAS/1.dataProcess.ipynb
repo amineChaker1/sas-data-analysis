{
 "cells": [
  {
   "cell_type": "markdown",
   "id": "3e51721b-7ae3-456f-ab6b-79e56a448fdb",
   "metadata": {},
   "source": [
    "### Data Step Processing"
   ]
  },
  {
   "cell_type": "markdown",
   "id": "9dbe31fe-169f-432b-ae2c-de8e9d126c16",
   "metadata": {},
   "source": [
    "In Controlling Data Step Processing we dig deeper into the DATA step. You learn how the DATA step processes data behind the scenes. Then you use this knowledge to control when and where the DATA step outputs rows to new tables."
   ]
  },
  {
   "cell_type": "code",
   "execution_count": null,
   "id": "1085f023-1a99-4eb0-a93c-9997d3d94719",
   "metadata": {},
   "outputs": [],
   "source": []
  }
 ],
 "metadata": {
  "kernelspec": {
   "display_name": "",
   "name": ""
  },
  "language_info": {
   "name": ""
  }
 },
 "nbformat": 4,
 "nbformat_minor": 5
}
