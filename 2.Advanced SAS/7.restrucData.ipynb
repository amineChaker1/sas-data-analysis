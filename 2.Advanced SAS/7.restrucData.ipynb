{
 "cells": [
  {
   "cell_type": "markdown",
   "id": "54e55be1-bd96-4116-be9c-45b68f05b2a1",
   "metadata": {},
   "source": [
    "### Restructring Data"
   ]
  },
  {
   "cell_type": "markdown",
   "id": "ba4fd42c-7ec5-41af-9a52-cfaae1f74a5e",
   "metadata": {},
   "source": [
    "In Restructuring Tables, you learn techniques that can be used to transpose or restructure a table. First you learn to restructure data with the DATA step. Then you learn to restructure data by using the TRANSPOSE procedure."
   ]
  },
  {
   "cell_type": "code",
   "execution_count": null,
   "id": "125965e4-522e-4289-9189-708287d47b1e",
   "metadata": {},
   "outputs": [],
   "source": []
  }
 ],
 "metadata": {
  "kernelspec": {
   "display_name": "",
   "name": ""
  },
  "language_info": {
   "name": ""
  }
 },
 "nbformat": 4,
 "nbformat_minor": 5
}
