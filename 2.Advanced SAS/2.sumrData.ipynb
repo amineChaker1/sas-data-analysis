{
 "cells": [
  {
   "cell_type": "markdown",
   "id": "c87ad1f8-3299-450f-b0ac-e8705d735b21",
   "metadata": {},
   "source": [
    "### Summarize Data"
   ]
  },
  {
   "cell_type": "markdown",
   "id": "da7d5feb-9e58-4574-ab93-8fa679a87755",
   "metadata": {},
   "source": [
    "In Summarizing Data you learn new syntax that enables you to alter the default behavior of the DATA step to solve a problem. First you learn to create an accumulating column, or in other words generate a running total. Then you learn to process data in groups, so you can perform an action when each group begins or ends."
   ]
  },
  {
   "cell_type": "code",
   "execution_count": null,
   "id": "08b762b4-8616-4be6-9333-a9007bd1c6e8",
   "metadata": {},
   "outputs": [],
   "source": []
  }
 ],
 "metadata": {
  "kernelspec": {
   "display_name": "",
   "name": ""
  },
  "language_info": {
   "name": ""
  }
 },
 "nbformat": 4,
 "nbformat_minor": 5
}
